{
  "nbformat": 4,
  "nbformat_minor": 0,
  "metadata": {
    "colab": {
      "provenance": [],
      "authorship_tag": "ABX9TyMqy9MwC4CpwhoDJiZmN+q5",
      "include_colab_link": true
    },
    "kernelspec": {
      "name": "python3",
      "display_name": "Python 3"
    },
    "language_info": {
      "name": "python"
    }
  },
  "cells": [
    {
      "cell_type": "markdown",
      "metadata": {
        "id": "view-in-github",
        "colab_type": "text"
      },
      "source": [
        "<a href=\"https://colab.research.google.com/github/FelipeOcampo03/QR_code_detector/blob/main/QR_code_detector.ipynb\" target=\"_parent\"><img src=\"https://colab.research.google.com/assets/colab-badge.svg\" alt=\"Open In Colab\"/></a>"
      ]
    },
    {
      "cell_type": "markdown",
      "source": [
        "##Immportar librerias necesarias"
      ],
      "metadata": {
        "id": "w2V2OrvFmZDT"
      }
    },
    {
      "cell_type": "code",
      "source": [
        "!apt-get install libzbar0"
      ],
      "metadata": {
        "colab": {
          "base_uri": "https://localhost:8080/"
        },
        "id": "k-UjRyKGnDgL",
        "outputId": "5ce0992b-9190-4fc2-f47c-c122e2aeefe2"
      },
      "execution_count": null,
      "outputs": [
        {
          "output_type": "stream",
          "name": "stdout",
          "text": [
            "Reading package lists... Done\n",
            "Building dependency tree... Done\n",
            "Reading state information... Done\n",
            "libzbar0 is already the newest version (0.23.92-4build2).\n",
            "0 upgraded, 0 newly installed, 0 to remove and 16 not upgraded.\n"
          ]
        }
      ]
    },
    {
      "cell_type": "code",
      "source": [
        "import cv2\n",
        "from pyzbar.pyzbar import decode"
      ],
      "metadata": {
        "id": "0vs3Hqn_nJQE"
      },
      "execution_count": null,
      "outputs": []
    },
    {
      "cell_type": "markdown",
      "source": [
        "##Función para extraer código QR"
      ],
      "metadata": {
        "id": "xt_CyBHPoMWx"
      }
    },
    {
      "cell_type": "code",
      "source": [
        "from google.colab import drive\n",
        "\n",
        "# Montar Google Drive\n",
        "drive.mount('/content/drive')"
      ],
      "metadata": {
        "colab": {
          "base_uri": "https://localhost:8080/"
        },
        "id": "_B62NARRo-4X",
        "outputId": "6c206680-de7e-4df3-da79-703b932159eb"
      },
      "execution_count": null,
      "outputs": [
        {
          "output_type": "stream",
          "name": "stdout",
          "text": [
            "Mounted at /content/drive\n"
          ]
        }
      ]
    },
    {
      "cell_type": "code",
      "source": [
        "# Función para extraer el código QR de una imagen\n",
        "def extraer_codigo_qr(imagen_path):\n",
        "    # Cargar la imagen\n",
        "    imagen = cv2.imread(imagen_path)\n",
        "\n",
        "    # Decodificar el código QR\n",
        "    codigos_qr = decode(imagen)\n",
        "\n",
        "    # Comprobar si se encontraron códigos QR en la imagen\n",
        "    if len(codigos_qr) > 0:\n",
        "        # Extraer todos los códigos QR encontrados en la imagen\n",
        "        for codigo_qr in codigos_qr:\n",
        "            # Obtener los datos del código QR\n",
        "            datos = codigo_qr.data.decode('utf-8')\n",
        "            tipo = codigo_qr.type\n",
        "\n",
        "            print(f'Tipo de código QR: {tipo}')\n",
        "            print(f'Datos del código QR: {datos}')\n",
        "    else:\n",
        "        print('No se encontraron códigos QR en la imagen.')\n",
        "\n",
        "# Ruta de la imagen que contiene el código QR\n",
        "imagen_path = '/content/drive/MyDrive/QR/descarga.png'\n",
        "\n",
        "# Llamar a la función para extraer el código QR de la imagen\n",
        "extraer_codigo_qr(imagen_path)"
      ],
      "metadata": {
        "colab": {
          "base_uri": "https://localhost:8080/"
        },
        "id": "RozJ3l5snVE5",
        "outputId": "9e73c1e2-044a-43d1-b609-a61395382cb5"
      },
      "execution_count": null,
      "outputs": [
        {
          "output_type": "stream",
          "name": "stdout",
          "text": [
            "Tipo de código QR: QRCODE\n",
            "Datos del código QR: https://qrco.de/bcP4Ig\n"
          ]
        }
      ]
    },
    {
      "cell_type": "markdown",
      "source": [
        "##API"
      ],
      "metadata": {
        "id": "Lzp5pLGtoPQq"
      }
    },
    {
      "cell_type": "code",
      "source": [
        "!pip install Flask\n"
      ],
      "metadata": {
        "colab": {
          "base_uri": "https://localhost:8080/"
        },
        "id": "4psd2wC4oQGl",
        "outputId": "054500c9-f344-41c0-ace7-a5bb8456f4f5"
      },
      "execution_count": null,
      "outputs": [
        {
          "output_type": "stream",
          "name": "stdout",
          "text": [
            "Requirement already satisfied: Flask in /usr/local/lib/python3.10/dist-packages (2.2.5)\n",
            "Requirement already satisfied: Werkzeug>=2.2.2 in /usr/local/lib/python3.10/dist-packages (from Flask) (2.3.7)\n",
            "Requirement already satisfied: Jinja2>=3.0 in /usr/local/lib/python3.10/dist-packages (from Flask) (3.1.2)\n",
            "Requirement already satisfied: itsdangerous>=2.0 in /usr/local/lib/python3.10/dist-packages (from Flask) (2.1.2)\n",
            "Requirement already satisfied: click>=8.0 in /usr/local/lib/python3.10/dist-packages (from Flask) (8.1.7)\n",
            "Requirement already satisfied: MarkupSafe>=2.0 in /usr/local/lib/python3.10/dist-packages (from Jinja2>=3.0->Flask) (2.1.3)\n"
          ]
        }
      ]
    },
    {
      "cell_type": "code",
      "source": [
        "from flask import Flask, request, jsonify\n",
        "import cv2\n",
        "from pyzbar.pyzbar import decode\n",
        "\n",
        "app = Flask(__name__)\n",
        "\n",
        "# Ruta para procesar la imagen y extraer códigos QR\n",
        "@app.route('/extraer_codigo_qr', methods=['POST'])\n",
        "def extraer_codigo_qr():\n",
        "    try:\n",
        "        # Obtener la imagen desde la solicitud POST\n",
        "        imagen = request.files['imagen'].read()\n",
        "\n",
        "        # Decodificar la imagen y extraer códigos QR\n",
        "        codigos_qr = decode(cv2.imdecode(np.fromstring(imagen, np.uint8), cv2.IMREAD_COLOR))\n",
        "\n",
        "        # Comprobar si se encontraron códigos QR en la imagen\n",
        "        if len(codigos_qr) > 0:\n",
        "            resultados = []\n",
        "            for codigo_qr in codigos_qr:\n",
        "                datos = codigo_qr.data.decode('utf-8')\n",
        "                tipo = codigo_qr.type\n",
        "                resultados.append({'tipo': tipo, 'datos': datos})\n",
        "            return jsonify(resultados)\n",
        "        else:\n",
        "            return jsonify({'mensaje': 'No se encontraron códigos QR en la imagen'})\n",
        "\n",
        "    except Exception as e:\n",
        "        return jsonify({'error': str(e)})\n",
        "\n",
        "if __name__ == '__main__':\n",
        "    app.run(host='0.0.0.0', port=5000)"
      ],
      "metadata": {
        "colab": {
          "base_uri": "https://localhost:8080/"
        },
        "id": "Ykni9bCqoYPS",
        "outputId": "fc20dfbf-1f94-4cd8-dba9-b85204dde9c2"
      },
      "execution_count": null,
      "outputs": [
        {
          "output_type": "stream",
          "name": "stdout",
          "text": [
            " * Serving Flask app '__main__'\n",
            " * Debug mode: off\n"
          ]
        },
        {
          "output_type": "stream",
          "name": "stderr",
          "text": [
            "INFO:werkzeug:\u001b[31m\u001b[1mWARNING: This is a development server. Do not use it in a production deployment. Use a production WSGI server instead.\u001b[0m\n",
            " * Running on all addresses (0.0.0.0)\n",
            " * Running on http://127.0.0.1:5000\n",
            " * Running on http://172.28.0.12:5000\n",
            "INFO:werkzeug:\u001b[33mPress CTRL+C to quit\u001b[0m\n"
          ]
        }
      ]
    }
  ]
}